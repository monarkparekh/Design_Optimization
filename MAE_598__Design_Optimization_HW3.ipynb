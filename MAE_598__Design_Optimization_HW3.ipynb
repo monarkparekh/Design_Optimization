{
  "nbformat": 4,
  "nbformat_minor": 0,
  "metadata": {
    "colab": {
      "provenance": [],
      "collapsed_sections": [],
      "authorship_tag": "ABX9TyMxFO98d1loGNsu38rzDOqJ",
      "include_colab_link": true
    },
    "kernelspec": {
      "name": "python3",
      "display_name": "Python 3"
    },
    "language_info": {
      "name": "python"
    }
  },
  "cells": [
    {
      "cell_type": "markdown",
      "metadata": {
        "id": "view-in-github",
        "colab_type": "text"
      },
      "source": [
        "<a href=\"https://colab.research.google.com/github/monarkparekh/MAE-598__Design-Optimization/blob/Assignment-3/MAE_598__Design_Optimization_HW3.ipynb\" target=\"_parent\"><img src=\"https://colab.research.google.com/assets/colab-badge.svg\" alt=\"Open In Colab\"/></a>"
      ]
    },
    {
      "cell_type": "markdown",
      "source": [
        "<b><h1>MAE 598 Design Optimization: \n",
        "Assignment 3</h1></b>\n",
        "\n",
        "Name: Monark Parekh <br> \n",
        "ASU ID: 1222179426\n"
      ],
      "metadata": {
        "id": "SU_emaqbSC25"
      }
    },
    {
      "cell_type": "markdown",
      "source": [
        "<h2><b> Question 1 <b></h2>"
      ],
      "metadata": {
        "id": "lkZO51LuSGGl"
      }
    },
    {
      "cell_type": "markdown",
      "source": [
        "Importing the required libraries"
      ],
      "metadata": {
        "id": "uSFazqXwUHXe"
      }
    },
    {
      "cell_type": "code",
      "source": [
        "import numpy as np\n",
        "import matplotlib.pyplot as plt\n",
        "import math"
      ],
      "metadata": {
        "id": "JsyLCVEcUGNN"
      },
      "execution_count": 1,
      "outputs": []
    },
    {
      "cell_type": "code",
      "source": [
        "T = 20\n",
        "a1, a2, a3 = 8.07131, 1730.63, 1730.63\n",
        "p1_sat = 10**(a1 - (a2/(T + a3)))\n",
        "a1, a2, a3 = 7.43155 , 1554.679, 240.337\n",
        "p2_sat = 10**(a1 - (a2/(T + a3)))"
      ],
      "metadata": {
        "id": "gkGcy_SCUeec"
      },
      "execution_count": 6,
      "outputs": []
    },
    {
      "cell_type": "code",
      "source": [
        "def p(x1, A12, A21):\n",
        "  x2 = 1 - x1\n",
        "  T1 = x1 * math.exp(A12 * ((A21*x2/(A12*x1 + A21*x2))**2)) * p1_sat\n",
        "  T2 = x2 * math.exp(A21 * ((A12*x1/(A12*x1 + A21*x2))**2)) * p2_sat\n",
        "  return T1 + T2"
      ],
      "metadata": {
        "id": "W2NtIhF5VHDL"
      },
      "execution_count": 9,
      "outputs": []
    },
    {
      "cell_type": "code",
      "execution_count": 12,
      "metadata": {
        "colab": {
          "base_uri": "https://localhost:8080/"
        },
        "id": "vMVWfcRiRun2",
        "outputId": "eb8515de-a572-4276-d02b-6c91b54299fd"
      },
      "outputs": [
        {
          "output_type": "stream",
          "name": "stdout",
          "text": [
            "28.824099527405245\n"
          ]
        }
      ],
      "source": []
    },
    {
      "cell_type": "markdown",
      "source": [
        "<h2><b> Question 2 <b></h2>"
      ],
      "metadata": {
        "id": "4azsdc1lS4fk"
      }
    },
    {
      "cell_type": "code",
      "source": [],
      "metadata": {
        "id": "2KzcpDVMS6gH"
      },
      "execution_count": null,
      "outputs": []
    }
  ]
}