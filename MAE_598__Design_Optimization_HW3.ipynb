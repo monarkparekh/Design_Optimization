{
  "nbformat": 4,
  "nbformat_minor": 0,
  "metadata": {
    "colab": {
      "provenance": [],
      "collapsed_sections": [],
      "authorship_tag": "ABX9TyP0CEHyoVfy56ebip/45Q7p",
      "include_colab_link": true
    },
    "kernelspec": {
      "name": "python3",
      "display_name": "Python 3"
    },
    "language_info": {
      "name": "python"
    }
  },
  "cells": [
    {
      "cell_type": "markdown",
      "metadata": {
        "id": "view-in-github",
        "colab_type": "text"
      },
      "source": [
        "<a href=\"https://colab.research.google.com/github/monarkparekh/MAE-598__Design-Optimization/blob/Assignment-3/MAE_598__Design_Optimization_HW3.ipynb\" target=\"_parent\"><img src=\"https://colab.research.google.com/assets/colab-badge.svg\" alt=\"Open In Colab\"/></a>"
      ]
    },
    {
      "cell_type": "markdown",
      "source": [
        "<b><h1>MAE 598 Design Optimization: \n",
        "Assignment 3</h1></b>\n",
        "\n",
        "Name: Monark Parekh <br> \n",
        "ASU ID: 1222179426\n"
      ],
      "metadata": {
        "id": "SU_emaqbSC25"
      }
    },
    {
      "cell_type": "markdown",
      "source": [
        "<h2><b> Question 1 <b></h2>"
      ],
      "metadata": {
        "id": "lkZO51LuSGGl"
      }
    },
    {
      "cell_type": "markdown",
      "source": [
        "Importing the required libraries"
      ],
      "metadata": {
        "id": "uSFazqXwUHXe"
      }
    },
    {
      "cell_type": "code",
      "source": [
        "from sympy import symbols, diff\n",
        "import numpy as np\n",
        "import matplotlib.pyplot as plt\n",
        "#import math\n",
        "from tabulate import tabulate\n",
        "from sympy import exp\n"
      ],
      "metadata": {
        "id": "JsyLCVEcUGNN"
      },
      "execution_count": 48,
      "outputs": []
    },
    {
      "cell_type": "markdown",
      "source": [
        "Defining the p1 and p2 saturation values"
      ],
      "metadata": {
        "id": "-BspU2KYYhpU"
      }
    },
    {
      "cell_type": "code",
      "source": [
        "T = 20\n",
        "a1, a2, a3 = 8.07131, 1730.63, 233.426\n",
        "p1_sat = 10**(a1 - (a2/(T + a3)))\n",
        "a1, a2, a3 = 7.43155 , 1554.679, 240.337\n",
        "p2_sat = 10**(a1 - (a2/(T + a3)))"
      ],
      "metadata": {
        "id": "gkGcy_SCUeec"
      },
      "execution_count": 49,
      "outputs": []
    },
    {
      "cell_type": "markdown",
      "source": [
        "Defining the given data"
      ],
      "metadata": {
        "id": "wn5DEEi4aONc"
      }
    },
    {
      "cell_type": "code",
      "source": [
        "data = [['x1','p'],[0,28.1], [0.1,34.4], [0.2,36.7], [0.3,36.9], [0.4,36.8], [0.5,36.7], [0.6,36.5], [0.7,35.4], [0.8,32.9], [0.9,27.7], [1,17.5]]\n",
        "print(tabulate(data, headers='firstrow', tablefmt='fancy_grid'))"
      ],
      "metadata": {
        "colab": {
          "base_uri": "https://localhost:8080/"
        },
        "id": "dTp0gesDY6P8",
        "outputId": "3bce293e-a5f5-4982-8a96-2dbdce255141"
      },
      "execution_count": 50,
      "outputs": [
        {
          "output_type": "stream",
          "name": "stdout",
          "text": [
            "╒══════╤══════╕\n",
            "│   x1 │    p │\n",
            "╞══════╪══════╡\n",
            "│  0   │ 28.1 │\n",
            "├──────┼──────┤\n",
            "│  0.1 │ 34.4 │\n",
            "├──────┼──────┤\n",
            "│  0.2 │ 36.7 │\n",
            "├──────┼──────┤\n",
            "│  0.3 │ 36.9 │\n",
            "├──────┼──────┤\n",
            "│  0.4 │ 36.8 │\n",
            "├──────┼──────┤\n",
            "│  0.5 │ 36.7 │\n",
            "├──────┼──────┤\n",
            "│  0.6 │ 36.5 │\n",
            "├──────┼──────┤\n",
            "│  0.7 │ 35.4 │\n",
            "├──────┼──────┤\n",
            "│  0.8 │ 32.9 │\n",
            "├──────┼──────┤\n",
            "│  0.9 │ 27.7 │\n",
            "├──────┼──────┤\n",
            "│  1   │ 17.5 │\n",
            "╘══════╧══════╛\n"
          ]
        }
      ]
    },
    {
      "cell_type": "markdown",
      "source": [
        "**Defining the given Objective Function**"
      ],
      "metadata": {
        "id": "yKNx54rAwOR4"
      }
    },
    {
      "cell_type": "markdown",
      "source": [
        "Determining the Gradient and Hessian of the given function"
      ],
      "metadata": {
        "id": "fCbzP30VYnM0"
      }
    },
    {
      "cell_type": "code",
      "source": [
        "A12, A21, x1, x2 = symbols('A12 A21 x1 x2', real=True)\n",
        "f = (x1 * exp(A12 * ((A21*x2/(A12*x1 + A21*x2))**2)) * p1_sat) + (x2 * exp(A21 * ((A12*x1/(A12*x1 + A21*x2))**2)) * p2_sat)\n",
        "grad = [0,0]\n",
        "grad[0] = diff(f, A12)\n",
        "grad[1] = diff(f, A21)\n",
        "print(f'G1 = {grad[0]}\\nG2 = {grad[1]}')\n",
        "H1 = diff(grad[0], A12)\n",
        "H2 = diff(grad[0], A21)\n",
        "H3 = diff(grad[1], A12)\n",
        "H4 = diff(grad[1], A21)\n",
        "Hess = np.array([[H1,H2],[H3,H4]])\n",
        "print(f'\\nH1 = {H1}\\nH2 = {H2}\\nH3 = {H3}\\nH4 = {H4}')\n",
        "symbolsToDelete = ('A12', 'A21', 'x1', 'x2')\n",
        "for z0 in symbolsToDelete:\n",
        "    del globals()[z0]"
      ],
      "metadata": {
        "colab": {
          "base_uri": "https://localhost:8080/"
        },
        "id": "kyJ45gRRhZ5A",
        "outputId": "b274cd7b-0966-44b3-d502-ada8c64ef821"
      },
      "execution_count": 75,
      "outputs": [
        {
          "output_type": "stream",
          "name": "stdout",
          "text": [
            "G1 = 17.4732520845971*x1*(-2*A12*A21**2*x1*x2**2/(A12*x1 + A21*x2)**3 + A21**2*x2**2/(A12*x1 + A21*x2)**2)*exp(A12*A21**2*x2**2/(A12*x1 + A21*x2)**2) + 28.8240995274052*x2*(-2*A12**2*A21*x1**3/(A12*x1 + A21*x2)**3 + 2*A12*A21*x1**2/(A12*x1 + A21*x2)**2)*exp(A12**2*A21*x1**2/(A12*x1 + A21*x2)**2)\n",
            "G2 = 17.4732520845971*x1*(-2*A12*A21**2*x2**3/(A12*x1 + A21*x2)**3 + 2*A12*A21*x2**2/(A12*x1 + A21*x2)**2)*exp(A12*A21**2*x2**2/(A12*x1 + A21*x2)**2) + 28.8240995274052*x2*(-2*A12**2*A21*x1**2*x2/(A12*x1 + A21*x2)**3 + A12**2*x1**2/(A12*x1 + A21*x2)**2)*exp(A12**2*A21*x1**2/(A12*x1 + A21*x2)**2)\n",
            "\n",
            "H1 = 17.4732520845971*x1*(-2*A12*A21**2*x1*x2**2/(A12*x1 + A21*x2)**3 + A21**2*x2**2/(A12*x1 + A21*x2)**2)**2*exp(A12*A21**2*x2**2/(A12*x1 + A21*x2)**2) + 17.4732520845971*x1*(6*A12*A21**2*x1**2*x2**2/(A12*x1 + A21*x2)**4 - 4*A21**2*x1*x2**2/(A12*x1 + A21*x2)**3)*exp(A12*A21**2*x2**2/(A12*x1 + A21*x2)**2) + 28.8240995274052*x2*(-2*A12**2*A21*x1**3/(A12*x1 + A21*x2)**3 + 2*A12*A21*x1**2/(A12*x1 + A21*x2)**2)**2*exp(A12**2*A21*x1**2/(A12*x1 + A21*x2)**2) + 28.8240995274052*x2*(6*A12**2*A21*x1**4/(A12*x1 + A21*x2)**4 - 8*A12*A21*x1**3/(A12*x1 + A21*x2)**3 + 2*A21*x1**2/(A12*x1 + A21*x2)**2)*exp(A12**2*A21*x1**2/(A12*x1 + A21*x2)**2)\n",
            "H2 = 17.4732520845971*x1*(-2*A12*A21**2*x2**3/(A12*x1 + A21*x2)**3 + 2*A12*A21*x2**2/(A12*x1 + A21*x2)**2)*(-2*A12*A21**2*x1*x2**2/(A12*x1 + A21*x2)**3 + A21**2*x2**2/(A12*x1 + A21*x2)**2)*exp(A12*A21**2*x2**2/(A12*x1 + A21*x2)**2) + 17.4732520845971*x1*(6*A12*A21**2*x1*x2**3/(A12*x1 + A21*x2)**4 - 4*A12*A21*x1*x2**2/(A12*x1 + A21*x2)**3 - 2*A21**2*x2**3/(A12*x1 + A21*x2)**3 + 2*A21*x2**2/(A12*x1 + A21*x2)**2)*exp(A12*A21**2*x2**2/(A12*x1 + A21*x2)**2) + 28.8240995274052*x2*(-2*A12**2*A21*x1**3/(A12*x1 + A21*x2)**3 + 2*A12*A21*x1**2/(A12*x1 + A21*x2)**2)*(-2*A12**2*A21*x1**2*x2/(A12*x1 + A21*x2)**3 + A12**2*x1**2/(A12*x1 + A21*x2)**2)*exp(A12**2*A21*x1**2/(A12*x1 + A21*x2)**2) + 28.8240995274052*x2*(6*A12**2*A21*x1**3*x2/(A12*x1 + A21*x2)**4 - 2*A12**2*x1**3/(A12*x1 + A21*x2)**3 - 4*A12*A21*x1**2*x2/(A12*x1 + A21*x2)**3 + 2*A12*x1**2/(A12*x1 + A21*x2)**2)*exp(A12**2*A21*x1**2/(A12*x1 + A21*x2)**2)\n",
            "H3 = 17.4732520845971*x1*(-2*A12*A21**2*x2**3/(A12*x1 + A21*x2)**3 + 2*A12*A21*x2**2/(A12*x1 + A21*x2)**2)*(-2*A12*A21**2*x1*x2**2/(A12*x1 + A21*x2)**3 + A21**2*x2**2/(A12*x1 + A21*x2)**2)*exp(A12*A21**2*x2**2/(A12*x1 + A21*x2)**2) + 17.4732520845971*x1*(6*A12*A21**2*x1*x2**3/(A12*x1 + A21*x2)**4 - 4*A12*A21*x1*x2**2/(A12*x1 + A21*x2)**3 - 2*A21**2*x2**3/(A12*x1 + A21*x2)**3 + 2*A21*x2**2/(A12*x1 + A21*x2)**2)*exp(A12*A21**2*x2**2/(A12*x1 + A21*x2)**2) + 28.8240995274052*x2*(-2*A12**2*A21*x1**3/(A12*x1 + A21*x2)**3 + 2*A12*A21*x1**2/(A12*x1 + A21*x2)**2)*(-2*A12**2*A21*x1**2*x2/(A12*x1 + A21*x2)**3 + A12**2*x1**2/(A12*x1 + A21*x2)**2)*exp(A12**2*A21*x1**2/(A12*x1 + A21*x2)**2) + 28.8240995274052*x2*(6*A12**2*A21*x1**3*x2/(A12*x1 + A21*x2)**4 - 2*A12**2*x1**3/(A12*x1 + A21*x2)**3 - 4*A12*A21*x1**2*x2/(A12*x1 + A21*x2)**3 + 2*A12*x1**2/(A12*x1 + A21*x2)**2)*exp(A12**2*A21*x1**2/(A12*x1 + A21*x2)**2)\n",
            "H4 = 17.4732520845971*x1*(-2*A12*A21**2*x2**3/(A12*x1 + A21*x2)**3 + 2*A12*A21*x2**2/(A12*x1 + A21*x2)**2)**2*exp(A12*A21**2*x2**2/(A12*x1 + A21*x2)**2) + 17.4732520845971*x1*(6*A12*A21**2*x2**4/(A12*x1 + A21*x2)**4 - 8*A12*A21*x2**3/(A12*x1 + A21*x2)**3 + 2*A12*x2**2/(A12*x1 + A21*x2)**2)*exp(A12*A21**2*x2**2/(A12*x1 + A21*x2)**2) + 28.8240995274052*x2*(-2*A12**2*A21*x1**2*x2/(A12*x1 + A21*x2)**3 + A12**2*x1**2/(A12*x1 + A21*x2)**2)**2*exp(A12**2*A21*x1**2/(A12*x1 + A21*x2)**2) + 28.8240995274052*x2*(6*A12**2*A21*x1**2*x2**2/(A12*x1 + A21*x2)**4 - 4*A12**2*x1**2*x2/(A12*x1 + A21*x2)**3)*exp(A12**2*A21*x1**2/(A12*x1 + A21*x2)**2)\n"
          ]
        }
      ]
    },
    {
      "cell_type": "markdown",
      "source": [
        "Defining the Objective function 'p'"
      ],
      "metadata": {
        "id": "l7ZYcmBZwGy8"
      }
    },
    {
      "cell_type": "code",
      "source": [
        "def p(x1, A12, A21):\n",
        "  x2 = 1 - x1\n",
        "  T1 = x1 * math.exp(A12 * ((A21*x2/(A12*x1 + A21*x2))**2)) * p1_sat\n",
        "  T2 = x2 * math.exp(A21 * ((A12*x1/(A12*x1 + A21*x2))**2)) * p2_sat\n",
        "  objective_function_p = T1 + T2\n",
        "  G1 = 17.4732520845971*x1*(-2*A12*A21**2*x1*x2**2/(A12*x1 + A21*x2)**3 + A21**2*x2**2/(A12*x1 + A21*x2)**2)*exp(A12*A21**2*x2**2/(A12*x1 + A21*x2)**2) + 28.8240995274052*x2*(-2*A12**2*A21*x1**3/(A12*x1 + A21*x2)**3 + 2*A12*A21*x1**2/(A12*x1 + A21*x2)**2)*exp(A12**2*A21*x1**2/(A12*x1 + A21*x2)**2) \n",
        "  G2 = 17.4732520845971*x1*(-2*A12*A21**2*x2**3/(A12*x1 + A21*x2)**3 + 2*A12*A21*x2**2/(A12*x1 + A21*x2)**2)*exp(A12*A21**2*x2**2/(A12*x1 + A21*x2)**2) + 28.8240995274052*x2*(-2*A12**2*A21*x1**2*x2/(A12*x1 + A21*x2)**3 + A12**2*x1**2/(A12*x1 + A21*x2)**2)*exp(A12**2*A21*x1**2/(A12*x1 + A21*x2)**2)\n",
        "  gradient = [G1, G2]\n",
        "\n",
        "  H1 = 17.4732520845971*x1*(-2*A12*A21**2*x1*x2**2/(A12*x1 + A21*x2)**3 + A21**2*x2**2/(A12*x1 + A21*x2)**2)**2*exp(A12*A21**2*x2**2/(A12*x1 + A21*x2)**2) + 17.4732520845971*x1*(6*A12*A21**2*x1**2*x2**2/(A12*x1 + A21*x2)**4 - 4*A21**2*x1*x2**2/(A12*x1 + A21*x2)**3)*exp(A12*A21**2*x2**2/(A12*x1 + A21*x2)**2) + 28.8240995274052*x2*(-2*A12**2*A21*x1**3/(A12*x1 + A21*x2)**3 + 2*A12*A21*x1**2/(A12*x1 + A21*x2)**2)**2*exp(A12**2*A21*x1**2/(A12*x1 + A21*x2)**2) + 28.8240995274052*x2*(6*A12**2*A21*x1**4/(A12*x1 + A21*x2)**4 - 8*A12*A21*x1**3/(A12*x1 + A21*x2)**3 + 2*A21*x1**2/(A12*x1 + A21*x2)**2)*exp(A12**2*A21*x1**2/(A12*x1 + A21*x2)**2)\n",
        "  H2 = 17.4732520845971*x1*(-2*A12*A21**2*x2**3/(A12*x1 + A21*x2)**3 + 2*A12*A21*x2**2/(A12*x1 + A21*x2)**2)*(-2*A12*A21**2*x1*x2**2/(A12*x1 + A21*x2)**3 + A21**2*x2**2/(A12*x1 + A21*x2)**2)*exp(A12*A21**2*x2**2/(A12*x1 + A21*x2)**2) + 17.4732520845971*x1*(6*A12*A21**2*x1*x2**3/(A12*x1 + A21*x2)**4 - 4*A12*A21*x1*x2**2/(A12*x1 + A21*x2)**3 - 2*A21**2*x2**3/(A12*x1 + A21*x2)**3 + 2*A21*x2**2/(A12*x1 + A21*x2)**2)*exp(A12*A21**2*x2**2/(A12*x1 + A21*x2)**2) + 28.8240995274052*x2*(-2*A12**2*A21*x1**3/(A12*x1 + A21*x2)**3 + 2*A12*A21*x1**2/(A12*x1 + A21*x2)**2)*(-2*A12**2*A21*x1**2*x2/(A12*x1 + A21*x2)**3 + A12**2*x1**2/(A12*x1 + A21*x2)**2)*exp(A12**2*A21*x1**2/(A12*x1 + A21*x2)**2) + 28.8240995274052*x2*(6*A12**2*A21*x1**3*x2/(A12*x1 + A21*x2)**4 - 2*A12**2*x1**3/(A12*x1 + A21*x2)**3 - 4*A12*A21*x1**2*x2/(A12*x1 + A21*x2)**3 + 2*A12*x1**2/(A12*x1 + A21*x2)**2)*exp(A12**2*A21*x1**2/(A12*x1 + A21*x2)**2)\n",
        "  H3 = 17.4732520845971*x1*(-2*A12*A21**2*x2**3/(A12*x1 + A21*x2)**3 + 2*A12*A21*x2**2/(A12*x1 + A21*x2)**2)*(-2*A12*A21**2*x1*x2**2/(A12*x1 + A21*x2)**3 + A21**2*x2**2/(A12*x1 + A21*x2)**2)*exp(A12*A21**2*x2**2/(A12*x1 + A21*x2)**2) + 17.4732520845971*x1*(6*A12*A21**2*x1*x2**3/(A12*x1 + A21*x2)**4 - 4*A12*A21*x1*x2**2/(A12*x1 + A21*x2)**3 - 2*A21**2*x2**3/(A12*x1 + A21*x2)**3 + 2*A21*x2**2/(A12*x1 + A21*x2)**2)*exp(A12*A21**2*x2**2/(A12*x1 + A21*x2)**2) + 28.8240995274052*x2*(-2*A12**2*A21*x1**3/(A12*x1 + A21*x2)**3 + 2*A12*A21*x1**2/(A12*x1 + A21*x2)**2)*(-2*A12**2*A21*x1**2*x2/(A12*x1 + A21*x2)**3 + A12**2*x1**2/(A12*x1 + A21*x2)**2)*exp(A12**2*A21*x1**2/(A12*x1 + A21*x2)**2) + 28.8240995274052*x2*(6*A12**2*A21*x1**3*x2/(A12*x1 + A21*x2)**4 - 2*A12**2*x1**3/(A12*x1 + A21*x2)**3 - 4*A12*A21*x1**2*x2/(A12*x1 + A21*x2)**3 + 2*A12*x1**2/(A12*x1 + A21*x2)**2)*exp(A12**2*A21*x1**2/(A12*x1 + A21*x2)**2)\n",
        "  H4 = 17.4732520845971*x1*(-2*A12*A21**2*x2**3/(A12*x1 + A21*x2)**3 + 2*A12*A21*x2**2/(A12*x1 + A21*x2)**2)**2*exp(A12*A21**2*x2**2/(A12*x1 + A21*x2)**2) + 17.4732520845971*x1*(6*A12*A21**2*x2**4/(A12*x1 + A21*x2)**4 - 8*A12*A21*x2**3/(A12*x1 + A21*x2)**3 + 2*A12*x2**2/(A12*x1 + A21*x2)**2)*exp(A12*A21**2*x2**2/(A12*x1 + A21*x2)**2) + 28.8240995274052*x2*(-2*A12**2*A21*x1**2*x2/(A12*x1 + A21*x2)**3 + A12**2*x1**2/(A12*x1 + A21*x2)**2)**2*exp(A12**2*A21*x1**2/(A12*x1 + A21*x2)**2) + 28.8240995274052*x2*(6*A12**2*A21*x1**2*x2**2/(A12*x1 + A21*x2)**4 - 4*A12**2*x1**2*x2/(A12*x1 + A21*x2)**3)*exp(A12**2*A21*x1**2/(A12*x1 + A21*x2)**2)\n",
        "  Hessian = np.array([[H1,H2],[H3,H4]])\n",
        "  return objective_function_p, gradient, Hessian"
      ],
      "metadata": {
        "id": "pole6YUlq01m"
      },
      "execution_count": 86,
      "outputs": []
    },
    {
      "cell_type": "code",
      "source": [
        "obj_p, grd, hess = p(0.6,1,2)\n",
        "print(hess)"
      ],
      "metadata": {
        "colab": {
          "base_uri": "https://localhost:8080/"
        },
        "id": "aXVvCV5DrbKs",
        "outputId": "2baf7f70-a37a-48b2-a192-fa2dc0fb355b"
      },
      "execution_count": 87,
      "outputs": [
        {
          "output_type": "stream",
          "name": "stdout",
          "text": [
            "[[-1.93632201791667 2.36254853583315]\n",
            " [2.36254853583315 -0.929476871916765]]\n"
          ]
        }
      ]
    },
    {
      "cell_type": "markdown",
      "source": [
        "# <b>Newton's Algorithm</b>"
      ],
      "metadata": {
        "id": "uCNfUrVM1O0x"
      }
    },
    {
      "cell_type": "code",
      "source": [
        "def newtonsalgorithm(x0,maximum_iteration):\n",
        "  epsilon = (10)**-6\n",
        "  X = []\n",
        "  gradient_normal = []\n",
        "  X.append(x0)\n",
        "  for k in range(0,maximum_iteration):\n",
        "      gradient_normal.append(np.linalg.norm(gradient(X[k])))\n",
        "\n",
        "      if gradient_normal[k] <= epsilon:\n",
        "        x1 = 1-(2*X[k][0]+3*X[k][1])\n",
        "        error_values = [abs(function(X[i])-function([-1/7,11/14])) for i in range(len(X))]\n",
        "        X = np.insert(X,0,x1,axis=1)\n",
        "        print(f'\\nThe Newtons Algorithm has converged to a point in {k} iterations\\n')\n",
        "        print(f'Current Gradient Normal is {gradient_normal[k]}\\n[x1,x2,x3] = {X[k]}')\n",
        "        return X,gradient_normal,(k),error_values\n",
        "      \n",
        "      new_X = X[k] - np.matmul(np.linalg.inv(Hessian), gradient(X[k]))\n",
        "      X.append(new_X)\n",
        "\n",
        "      if k == (maximum_iteration - 1):\n",
        "        print(f\"Number of iterations has exceeded the maxinimum iterations, still not converged to the given threshold.\\nCurrent Gradient Normal is {gradient_normal[k]}\\nCurrent point is {X[k]}\")\n",
        "        return X,gradient_normal,(k)"
      ],
      "metadata": {
        "id": "OII2uTMS1OIn"
      },
      "execution_count": null,
      "outputs": []
    },
    {
      "cell_type": "markdown",
      "source": [
        "<h2><b> Question 2 <b></h2>"
      ],
      "metadata": {
        "id": "4azsdc1lS4fk"
      }
    },
    {
      "cell_type": "markdown",
      "source": [
        "Importing the required libraries"
      ],
      "metadata": {
        "id": "cDWgO33IcGeu"
      }
    },
    {
      "cell_type": "code",
      "source": [
        "import numpy as np\n",
        "import matplotlib.pyplot as plt\n",
        "import math"
      ],
      "metadata": {
        "id": "yOnet0cEcF_6"
      },
      "execution_count": null,
      "outputs": []
    },
    {
      "cell_type": "markdown",
      "source": [
        "Defining the Objective function"
      ],
      "metadata": {
        "id": "n4WK2cJ8avAg"
      }
    },
    {
      "cell_type": "code",
      "source": [
        "def objective_function(x1, x2):\n",
        "  return (((4 - 2.1*(x1**2) + ((x1**4)/3))*(x1**2)) + (x1*x2) + ((-4 + 4*(x2**2))*(x2**2)))"
      ],
      "metadata": {
        "id": "2KzcpDVMS6gH"
      },
      "execution_count": null,
      "outputs": []
    },
    {
      "cell_type": "code",
      "source": [],
      "metadata": {
        "id": "zcctTnS_dLsG"
      },
      "execution_count": null,
      "outputs": []
    }
  ]
}