{
  "nbformat": 4,
  "nbformat_minor": 0,
  "metadata": {
    "colab": {
      "provenance": [],
      "collapsed_sections": [],
      "authorship_tag": "ABX9TyMsUoJGuMGVV/6PEvxkHzG5",
      "include_colab_link": true
    },
    "kernelspec": {
      "name": "python3",
      "display_name": "Python 3"
    },
    "language_info": {
      "name": "python"
    }
  },
  "cells": [
    {
      "cell_type": "markdown",
      "metadata": {
        "id": "view-in-github",
        "colab_type": "text"
      },
      "source": [
        "<a href=\"https://colab.research.google.com/github/monarkparekh/MAE-598__Design-Optimization/blob/Assignment-3/MAE_598__Design_Optimization_HW3.ipynb\" target=\"_parent\"><img src=\"https://colab.research.google.com/assets/colab-badge.svg\" alt=\"Open In Colab\"/></a>"
      ]
    },
    {
      "cell_type": "markdown",
      "source": [
        "<b><h1>MAE 598 Design Optimization: \n",
        "Assignment 3</h1></b>\n",
        "\n",
        "Name: Monark Parekh <br> \n",
        "ASU ID: 1222179426\n"
      ],
      "metadata": {
        "id": "SU_emaqbSC25"
      }
    },
    {
      "cell_type": "markdown",
      "source": [
        "<h2><b> Question 1 <b></h2>"
      ],
      "metadata": {
        "id": "lkZO51LuSGGl"
      }
    },
    {
      "cell_type": "code",
      "execution_count": null,
      "metadata": {
        "id": "vMVWfcRiRun2"
      },
      "outputs": [],
      "source": []
    }
  ]
}