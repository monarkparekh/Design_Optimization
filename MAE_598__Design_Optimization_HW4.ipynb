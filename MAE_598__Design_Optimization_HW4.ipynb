{
  "nbformat": 4,
  "nbformat_minor": 0,
  "metadata": {
    "colab": {
      "provenance": [],
      "collapsed_sections": [],
      "authorship_tag": "ABX9TyOa3CrlgTWcDoP2z0vc1H0w",
      "include_colab_link": true
    },
    "kernelspec": {
      "name": "python3",
      "display_name": "Python 3"
    },
    "language_info": {
      "name": "python"
    }
  },
  "cells": [
    {
      "cell_type": "markdown",
      "metadata": {
        "id": "view-in-github",
        "colab_type": "text"
      },
      "source": [
        "<a href=\"https://colab.research.google.com/github/monarkparekh/MAE-598__Design-Optimization/blob/Assignment-4/MAE_598__Design_Optimization_HW4.ipynb\" target=\"_parent\"><img src=\"https://colab.research.google.com/assets/colab-badge.svg\" alt=\"Open In Colab\"/></a>"
      ]
    },
    {
      "cell_type": "markdown",
      "source": [
        "<b><h1>MAE 598 Design Optimization: \n",
        "Assignment 4</h1></b>\n",
        "\n",
        "<h2>Name: Monark Parekh <br>\n",
        "ASU ID: 1222179426</h2>\n"
      ],
      "metadata": {
        "id": "nnWtQfZ9csGq"
      }
    },
    {
      "cell_type": "markdown",
      "source": [
        "<h3><b>Question 4</b></h3>"
      ],
      "metadata": {
        "id": "HqPVkDUudPKc"
      }
    },
    {
      "cell_type": "code",
      "execution_count": 149,
      "metadata": {
        "id": "tSQo4k1Mcq_o"
      },
      "outputs": [],
      "source": [
        "import numpy as np\n",
        "import torch\n",
        "from torch.autograd import Variable\n",
        "import matplotlib.pyplot as plt\n",
        "from numpy.linalg import inv"
      ]
    },
    {
      "cell_type": "code",
      "source": [
        "X = Variable(torch.tensor([1.,1.,1.]), requires_grad=True)\n",
        "Xc1 = Variable(torch.tensor([1.,1.,1.]), requires_grad=True)\n",
        "Xc2 = Variable(torch.tensor([1.,1.,1.]), requires_grad=True)"
      ],
      "metadata": {
        "id": "KqRdyB2i5tjp"
      },
      "execution_count": 172,
      "outputs": []
    },
    {
      "cell_type": "markdown",
      "source": [
        "n = 3\n",
        "<br>m = 2 \n",
        "<br>dof = 1\n",
        "<br>d = x1\n",
        "<br>s = [x2,x3]"
      ],
      "metadata": {
        "id": "ONpIojcRCsUO"
      }
    },
    {
      "cell_type": "code",
      "source": [
        "def objective_function(X):\n",
        "  obj = (X[0]**2 + X[1]**2 + X[2]**2)\n",
        "  obj_sum =  obj.sum()\n",
        "  return obj_sum\n",
        "\n",
        "def constraints_1(Xc1):\n",
        "  c1 = (Xc1[0]**2)/4 + (Xc1[1]**2)/5 + (Xc1[2]**2)/25 - 1\n",
        "  return c1\n",
        "def constraints_2(Xc2):\n",
        "  c2 = Xc2[0] + Xc2[1] + Xc2[2]\n",
        "  return c2\n",
        "\n",
        "obj = objective_function(X)\n",
        "cont1 = constraints_1(Xc1)\n",
        "cont2 = constraints_2(Xc2)"
      ],
      "metadata": {
        "id": "rQLjhI276S6h"
      },
      "execution_count": 173,
      "outputs": []
    },
    {
      "cell_type": "code",
      "source": [
        "obj.backward()\n",
        "cont1.backward()\n",
        "cont2.backward()"
      ],
      "metadata": {
        "id": "qDK4GxTf6T4q"
      },
      "execution_count": 174,
      "outputs": []
    },
    {
      "cell_type": "code",
      "source": [
        "def reduced_gradient():  \n",
        "  gradient = X.grad.numpy()\n",
        "  gradient_c1 = Xc1.grad.numpy()\n",
        "  gradient_c2 = Xc2.grad.numpy()\n",
        "\n",
        "  df_dd = gradient[0]\n",
        "  df_ds = np.array([gradient[1],gradient[2]])\n",
        "  dh_ds = np.matrix([[gradient_c1[1],gradient_c1[2]],[gradient_c2[1],gradient_c2[2]]])\n",
        "  dh_dd = np.array([gradient_c1[0],gradient_c2[0]])\n",
        "\n",
        "  temp  = np.matmul(inv(dh_ds),dh_dd.transpose())\n",
        "  temp2 = np.matmul(df_ds,temp.transpose())\n",
        "  reduced_grad = df_dd - temp2\n",
        "  return [reduced_grad,df_dd,df_ds,dh_ds,dh_dd]"
      ],
      "metadata": {
        "id": "WwBtLoiG8XCv"
      },
      "execution_count": 185,
      "outputs": []
    },
    {
      "cell_type": "code",
      "source": [
        "print(reduced_gradient()[5])"
      ],
      "metadata": {
        "id": "4fmfEhy_-but"
      },
      "execution_count": null,
      "outputs": []
    },
    {
      "cell_type": "code",
      "source": [
        "max_iter = 10\n",
        "epsilon = 1e-3\n",
        "for i in range(0,max_iter):\n",
        "  if reduced_gradient()[0] > epsilon:\n",
        "    alpha = "
      ],
      "metadata": {
        "colab": {
          "base_uri": "https://localhost:8080/"
        },
        "id": "cOXAH0qJO9PD",
        "outputId": "ba3b9e9f-89bf-4058-b504-16d1b033028d"
      },
      "execution_count": 184,
      "outputs": [
        {
          "output_type": "stream",
          "name": "stdout",
          "text": [
            "0\n",
            "1\n",
            "2\n",
            "3\n",
            "4\n",
            "5\n",
            "6\n",
            "7\n",
            "8\n",
            "9\n"
          ]
        }
      ]
    },
    {
      "cell_type": "code",
      "source": [],
      "metadata": {
        "id": "QQb9VqP2Pg2D"
      },
      "execution_count": null,
      "outputs": []
    }
  ]
}