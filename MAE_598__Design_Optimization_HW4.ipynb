{
  "nbformat": 4,
  "nbformat_minor": 0,
  "metadata": {
    "colab": {
      "provenance": [],
      "collapsed_sections": [],
      "authorship_tag": "ABX9TyM+qhxmn8oSE3emSQ+ATkbY",
      "include_colab_link": true
    },
    "kernelspec": {
      "name": "python3",
      "display_name": "Python 3"
    },
    "language_info": {
      "name": "python"
    }
  },
  "cells": [
    {
      "cell_type": "markdown",
      "metadata": {
        "id": "view-in-github",
        "colab_type": "text"
      },
      "source": [
        "<a href=\"https://colab.research.google.com/github/monarkparekh/MAE-598__Design-Optimization/blob/Assignment-4/MAE_598__Design_Optimization_HW4.ipynb\" target=\"_parent\"><img src=\"https://colab.research.google.com/assets/colab-badge.svg\" alt=\"Open In Colab\"/></a>"
      ]
    },
    {
      "cell_type": "markdown",
      "source": [
        "<b><h1>MAE 598 Design Optimization: \n",
        "Assignment 4</h1></b>\n",
        "\n",
        "<h2>Name: Monark Parekh <br>\n",
        "ASU ID: 1222179426</h2>\n"
      ],
      "metadata": {
        "id": "nnWtQfZ9csGq"
      }
    },
    {
      "cell_type": "markdown",
      "source": [
        "<h3><b>Question 4</b></h3>"
      ],
      "metadata": {
        "id": "HqPVkDUudPKc"
      }
    },
    {
      "cell_type": "code",
      "execution_count": 424,
      "metadata": {
        "id": "tSQo4k1Mcq_o"
      },
      "outputs": [],
      "source": [
        "import numpy as np\n",
        "import torch\n",
        "from torch.autograd import Variable\n",
        "import matplotlib.pyplot as plt\n",
        "from numpy.linalg import inv"
      ]
    },
    {
      "cell_type": "code",
      "source": [
        "X = Variable(torch.tensor([0.1000, 2.0217, 2.1217]), requires_grad=True)\n",
        "Xc1 = Variable(torch.tensor([0.1000, 2.0217, 2.1217]), requires_grad=True)\n",
        "Xc2 = Variable(torch.tensor([0.1000, 2.0217, 2.1217]), requires_grad=True)"
      ],
      "metadata": {
        "id": "KqRdyB2i5tjp"
      },
      "execution_count": 425,
      "outputs": []
    },
    {
      "cell_type": "code",
      "source": [
        "#X = Variable(torch.tensor([1., 1., 1.]), requires_grad=True)\n",
        "#Xc1 = Variable(torch.tensor([1., 1., 1.]), requires_grad=True)\n",
        "#Xc2 = Variable(torch.tensor([1., 1., 1.]), requires_grad=True)"
      ],
      "metadata": {
        "id": "2XfSWvpChgXb"
      },
      "execution_count": 405,
      "outputs": []
    },
    {
      "cell_type": "markdown",
      "source": [
        "n = 3\n",
        "<br>m = 2 \n",
        "<br>dof = 1\n",
        "<br>d = x1\n",
        "<br>s = [x2,x3]"
      ],
      "metadata": {
        "id": "ONpIojcRCsUO"
      }
    },
    {
      "cell_type": "code",
      "source": [
        "def objective_function(X):\n",
        "  obj = (X[0]**2 + X[1]**2 + X[2]**2)\n",
        "  #obj_sum =  obj.sum()\n",
        "  return obj\n",
        "\n",
        "def constraints_1(Xc1):\n",
        "  c1 = (Xc1[0]**2)/4 + (Xc1[1]**2)/5 + (Xc1[2]**2)/25 - 1\n",
        "  return c1\n",
        "def constraints_2(Xc2):\n",
        "  c2 = Xc2[0] + Xc2[1] - Xc2[2]\n",
        "  return c2"
      ],
      "metadata": {
        "id": "rQLjhI276S6h"
      },
      "execution_count": 426,
      "outputs": []
    },
    {
      "cell_type": "code",
      "source": [
        "obj = objective_function(X)\n",
        "cont1 = constraints_1(Xc1)\n",
        "cont2 = constraints_2(Xc2)\n",
        "obj.backward()\n",
        "cont1.backward()\n",
        "cont2.backward()"
      ],
      "metadata": {
        "id": "qDK4GxTf6T4q"
      },
      "execution_count": 427,
      "outputs": []
    },
    {
      "cell_type": "code",
      "source": [
        "def reduced_gradient():  \n",
        "  gradient = X.grad.numpy()\n",
        "  gradient_c1 = Xc1.grad.numpy()\n",
        "  gradient_c2 = Xc2.grad.numpy()\n",
        "\n",
        "  df_dd = gradient[0]\n",
        "  df_ds = np.array([gradient[1],gradient[2]])\n",
        "  dh_ds = np.matrix([[gradient_c1[1],gradient_c1[2]],[gradient_c2[1],gradient_c2[2]]])\n",
        "  dh_dd = np.array([gradient_c1[0],gradient_c2[0]])\n",
        "\n",
        "  temp  = np.matmul(inv(dh_ds),dh_dd.transpose())\n",
        "  temp2 = np.matmul(df_ds,temp.transpose())\n",
        "  reduced_grad = df_dd - temp2\n",
        "  return [reduced_grad,df_dd,df_ds,dh_ds,dh_dd]"
      ],
      "metadata": {
        "id": "WwBtLoiG8XCv"
      },
      "execution_count": 428,
      "outputs": []
    },
    {
      "cell_type": "code",
      "source": [
        "def line_search(X):\n",
        "  counter = 0\n",
        "  alpha = 1.\n",
        "  all_alpha =[1]\n",
        "  b = 0.5\n",
        "  t = 0.5\n",
        "  def check(alpha):\n",
        "    [reduced_grad,df_dd,df_ds,dh_ds,dh_dd] = reduced_gradient()\n",
        "    X_c = X.clone().detach()\n",
        "    X_c = X_c.numpy()\n",
        "  \n",
        "    d_new = X_c[0] - alpha*reduced_grad\n",
        "    temp  = np.matmul(inv(dh_ds),dh_dd.transpose())\n",
        "    temp2 = reduced_grad*temp\n",
        "    s_new = [X_c[1],X_c[2]] + alpha*(temp2)\n",
        "    X_alpha = [d_new,s_new[0,0],s_new[0,1]]\n",
        "    f_alpha = objective_function(X_alpha)\n",
        "    #phi_alpha = objective_function(X_c) - alpha*t*(np.matmul(df_dd,df_dd.transpose()))\n",
        "    phi_alpha = objective_function(X_c) - alpha*t*(reduced_grad**2)\n",
        "    return [f_alpha,phi_alpha]\n",
        "\n",
        "  while check(alpha)[0] > check(alpha)[1] and counter < 25:\n",
        "    counter += 1\n",
        "    alpha = b*alpha \n",
        "    all_alpha.append(alpha)\n",
        "  \n",
        "  print(all_alpha)\n",
        "  return alpha\n"
      ],
      "metadata": {
        "id": "WPVHzrSAe3nz"
      },
      "execution_count": 429,
      "outputs": []
    },
    {
      "cell_type": "code",
      "source": [
        "line_search(X)"
      ],
      "metadata": {
        "colab": {
          "base_uri": "https://localhost:8080/"
        },
        "id": "YdETPWFD3PIF",
        "outputId": "f5efe381-3267-4073-b97c-bce0627c8ce4"
      },
      "execution_count": 430,
      "outputs": [
        {
          "output_type": "stream",
          "name": "stdout",
          "text": [
            "[1, 0.5, 0.25]\n"
          ]
        },
        {
          "output_type": "execute_result",
          "data": {
            "text/plain": [
              "0.25"
            ]
          },
          "metadata": {},
          "execution_count": 430
        }
      ]
    },
    {
      "cell_type": "code",
      "source": [
        "max_iter = 10\n",
        "epsilon = 1e-3\n",
        "for i in range(0,max_iter):\n",
        "  Xc1 = X\n",
        "  Xc2 = X\n",
        "  obj = objective_function(X)\n",
        "  cont1 = constraints_1(Xc1)\n",
        "  cont2 = constraints_2(Xc2)\n",
        "  obj.backward()\n",
        "  cont1.backward()\n",
        "  cont2.backward()\n",
        "  if reduced_gradient()[0] > epsilon:\n",
        "    alpha = line_search(X)\n",
        "    "
      ],
      "metadata": {
        "id": "cOXAH0qJO9PD"
      },
      "execution_count": null,
      "outputs": []
    },
    {
      "cell_type": "code",
      "source": [],
      "metadata": {
        "id": "-7hExpPiVx71"
      },
      "execution_count": null,
      "outputs": []
    }
  ]
}