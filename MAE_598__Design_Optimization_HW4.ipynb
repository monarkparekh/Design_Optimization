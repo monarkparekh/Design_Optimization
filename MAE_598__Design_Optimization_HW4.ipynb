{
  "nbformat": 4,
  "nbformat_minor": 0,
  "metadata": {
    "colab": {
      "provenance": [],
      "collapsed_sections": [],
      "authorship_tag": "ABX9TyMN7UKfkTFAkdUqVppaJv5I",
      "include_colab_link": true
    },
    "kernelspec": {
      "name": "python3",
      "display_name": "Python 3"
    },
    "language_info": {
      "name": "python"
    }
  },
  "cells": [
    {
      "cell_type": "markdown",
      "metadata": {
        "id": "view-in-github",
        "colab_type": "text"
      },
      "source": [
        "<a href=\"https://colab.research.google.com/github/monarkparekh/MAE-598__Design-Optimization/blob/Project-1/MAE_598__Design_Optimization_HW4.ipynb\" target=\"_parent\"><img src=\"https://colab.research.google.com/assets/colab-badge.svg\" alt=\"Open In Colab\"/></a>"
      ]
    },
    {
      "cell_type": "markdown",
      "source": [
        "<b><h1>MAE 598 Design Optimization: \n",
        "Assignment 4</h1></b>\n",
        "\n",
        "<h2>Name: Monark Parekh <br>\n",
        "ASU ID: 1222179426</h2>\n"
      ],
      "metadata": {
        "id": "nnWtQfZ9csGq"
      }
    },
    {
      "cell_type": "markdown",
      "source": [
        "<h3><b>Question 4</b></h3>"
      ],
      "metadata": {
        "id": "HqPVkDUudPKc"
      }
    },
    {
      "cell_type": "code",
      "execution_count": 240,
      "metadata": {
        "id": "tSQo4k1Mcq_o"
      },
      "outputs": [],
      "source": [
        "import numpy as np\n",
        "import torch\n",
        "from torch.autograd import Variable\n",
        "import matplotlib.pyplot as plt\n",
        "from numpy.linalg import inv"
      ]
    },
    {
      "cell_type": "code",
      "source": [
        "X = Variable(torch.tensor([1.,1.,1.]), requires_grad=True)\n",
        "Xc1 = Variable(torch.tensor([1.,1.,1.]), requires_grad=True)\n",
        "Xc2 = Variable(torch.tensor([1.,1.,1.]), requires_grad=True)"
      ],
      "metadata": {
        "id": "KqRdyB2i5tjp"
      },
      "execution_count": 241,
      "outputs": []
    },
    {
      "cell_type": "markdown",
      "source": [
        "n = 3\n",
        "<br>m = 2 \n",
        "<br>dof = 1\n",
        "<br>d = x1\n",
        "<br>s = [x2,x3]"
      ],
      "metadata": {
        "id": "ONpIojcRCsUO"
      }
    },
    {
      "cell_type": "code",
      "source": [
        "def objective_function(X):\n",
        "  obj = (X[0]**2 + X[1]**2 + X[2]**2)\n",
        "  #obj_sum =  obj.sum()\n",
        "  return obj\n",
        "\n",
        "def constraints_1(Xc1):\n",
        "  c1 = (Xc1[0]**2)/4 + (Xc1[1]**2)/5 + (Xc1[2]**2)/25 - 1\n",
        "  return c1\n",
        "def constraints_2(Xc2):\n",
        "  c2 = Xc2[0] + Xc2[1] + Xc2[2]\n",
        "  return c2"
      ],
      "metadata": {
        "id": "rQLjhI276S6h"
      },
      "execution_count": 294,
      "outputs": []
    },
    {
      "cell_type": "code",
      "source": [
        "obj = objective_function(X)\n",
        "cont1 = constraints_1(Xc1)\n",
        "cont2 = constraints_2(Xc2)\n",
        "obj.backward()\n",
        "cont1.backward()\n",
        "cont2.backward()"
      ],
      "metadata": {
        "id": "qDK4GxTf6T4q"
      },
      "execution_count": 243,
      "outputs": []
    },
    {
      "cell_type": "code",
      "source": [
        "def reduced_gradient():  \n",
        "  gradient = X.grad.numpy()\n",
        "  gradient_c1 = Xc1.grad.numpy()\n",
        "  gradient_c2 = Xc2.grad.numpy()\n",
        "\n",
        "  df_dd = gradient[0]\n",
        "  df_ds = np.array([gradient[1],gradient[2]])\n",
        "  dh_ds = np.matrix([[gradient_c1[1],gradient_c1[2]],[gradient_c2[1],gradient_c2[2]]])\n",
        "  dh_dd = np.array([gradient_c1[0],gradient_c2[0]])\n",
        "\n",
        "  temp  = np.matmul(inv(dh_ds),dh_dd.transpose())\n",
        "  temp2 = np.matmul(df_ds,temp.transpose())\n",
        "  reduced_grad = df_dd - temp2\n",
        "  return [reduced_grad,df_dd,df_ds,dh_ds,dh_dd]"
      ],
      "metadata": {
        "id": "WwBtLoiG8XCv"
      },
      "execution_count": 244,
      "outputs": []
    },
    {
      "cell_type": "code",
      "source": [
        "for i in range(0,5):\n",
        "  print(reduced_gradient()[i])"
      ],
      "metadata": {
        "colab": {
          "base_uri": "https://localhost:8080/"
        },
        "id": "Rsotl2N0gR7s",
        "outputId": "aa66db07-9d6d-4bca-d463-eac3bfcd1f99"
      },
      "execution_count": 245,
      "outputs": [
        {
          "output_type": "stream",
          "name": "stdout",
          "text": [
            "[[0.]]\n",
            "2.0\n",
            "[2. 2.]\n",
            "[[0.4  0.08]\n",
            " [1.   1.  ]]\n",
            "[0.5 1. ]\n"
          ]
        }
      ]
    },
    {
      "cell_type": "code",
      "source": [
        "alpha = 1\n",
        "[reduced_grad,df_dd,df_ds,dh_ds,dh_dd] = reduced_gradient()\n",
        "X_c = X.clone().detach()\n",
        "X_c = (X_c.numpy())\n",
        "d = X_c[0] - alpha*df_dd\n",
        "temp  = np.matmul(inv(dh_ds),dh_dd.transpose())\n",
        "temp2 = df_dd*temp\n",
        "s = np.array([X_c[1],X_c[2]]) + (alpha*(temp2))\n",
        "print(s[0])\n",
        "print(d)"
      ],
      "metadata": {
        "colab": {
          "base_uri": "https://localhost:8080/"
        },
        "id": "TRHU64u-nZl-",
        "outputId": "6ab321ca-07e7-4567-f45e-87586d165f8d"
      },
      "execution_count": 275,
      "outputs": [
        {
          "output_type": "stream",
          "name": "stdout",
          "text": [
            "[[3.625 0.375]]\n",
            "-1.0\n"
          ]
        }
      ]
    },
    {
      "cell_type": "code",
      "source": [
        "df_dd"
      ],
      "metadata": {
        "colab": {
          "base_uri": "https://localhost:8080/"
        },
        "id": "8-FUvmoH3ql-",
        "outputId": "2ce0482c-222c-4653-a300-63a0e6ed718d"
      },
      "execution_count": 302,
      "outputs": [
        {
          "output_type": "execute_result",
          "data": {
            "text/plain": [
              "2.0"
            ]
          },
          "metadata": {},
          "execution_count": 302
        }
      ]
    },
    {
      "cell_type": "code",
      "source": [
        "df_dd*df_dd.transpose()"
      ],
      "metadata": {
        "colab": {
          "base_uri": "https://localhost:8080/",
          "height": 166
        },
        "id": "PE0rBZTwxq4t",
        "outputId": "022360a9-4f87-432d-91cd-850180f72c2b"
      },
      "execution_count": 301,
      "outputs": [
        {
          "output_type": "error",
          "ename": "ValueError",
          "evalue": "ignored",
          "traceback": [
            "\u001b[0;31m---------------------------------------------------------------------------\u001b[0m",
            "\u001b[0;31mValueError\u001b[0m                                Traceback (most recent call last)",
            "\u001b[0;32m<ipython-input-301-3ccb9aef7d4b>\u001b[0m in \u001b[0;36m<module>\u001b[0;34m\u001b[0m\n\u001b[0;32m----> 1\u001b[0;31m \u001b[0mnp\u001b[0m\u001b[0;34m.\u001b[0m\u001b[0mmatmul\u001b[0m\u001b[0;34m(\u001b[0m\u001b[0mdf_dd\u001b[0m\u001b[0;34m,\u001b[0m\u001b[0mdf_dd\u001b[0m\u001b[0;34m.\u001b[0m\u001b[0mtranspose\u001b[0m\u001b[0;34m(\u001b[0m\u001b[0;34m)\u001b[0m\u001b[0;34m)\u001b[0m\u001b[0;34m\u001b[0m\u001b[0;34m\u001b[0m\u001b[0m\n\u001b[0m",
            "\u001b[0;31mValueError\u001b[0m: matmul: Input operand 0 does not have enough dimensions (has 0, gufunc core with signature (n?,k),(k,m?)->(n?,m?) requires 1)"
          ]
        }
      ]
    },
    {
      "cell_type": "code",
      "source": [
        "def line_search(X):\n",
        "  alpha = 1\n",
        "  b = 0.5\n",
        "  t = 1\n",
        "  def check(alpha):\n",
        "    [reduced_grad,df_dd,df_ds,dh_ds,dh_dd] = reduced_gradient()\n",
        "    X_c = X.clone().detach()\n",
        "    X_c = X_c.numpy()\n",
        "  \n",
        "    d_new = X_c[0] - alpha*df_dd\n",
        "\n",
        "    temp  = np.matmul(inv(dh_ds),dh_dd.transpose())\n",
        "    temp2 = df_dd*temp\n",
        "    s_new = [X_c[1],X_c[2]] + alpha*(temp2)\n",
        "\n",
        "    X_alpha = [d_new,s_new[0,0],s_new[0,1]]\n",
        "\n",
        "    f_alpha = objective_function(X_alpha)\n",
        "\n",
        "    phi_alpha = objective_function(X_c) - alpha*t*(np.matmul(df_dd,df_dd.transpose()))\n",
        "    \n",
        "    return [f_alpha,phi_alpha]\n",
        "\n",
        "  while check(alpha)[0] > check(alpha)[1]:\n",
        "    alpha = b*alpha \n",
        "  \n",
        "  return alpha\n"
      ],
      "metadata": {
        "id": "WPVHzrSAe3nz"
      },
      "execution_count": 299,
      "outputs": []
    },
    {
      "cell_type": "code",
      "source": [
        "line_search(X)"
      ],
      "metadata": {
        "colab": {
          "base_uri": "https://localhost:8080/",
          "height": 311
        },
        "id": "YdETPWFD3PIF",
        "outputId": "1d1addd6-2464-4b24-b926-59583b59b480"
      },
      "execution_count": 300,
      "outputs": [
        {
          "output_type": "error",
          "ename": "ValueError",
          "evalue": "ignored",
          "traceback": [
            "\u001b[0;31m---------------------------------------------------------------------------\u001b[0m",
            "\u001b[0;31mValueError\u001b[0m                                Traceback (most recent call last)",
            "\u001b[0;32m<ipython-input-300-cdffaf7526f3>\u001b[0m in \u001b[0;36m<module>\u001b[0;34m\u001b[0m\n\u001b[0;32m----> 1\u001b[0;31m \u001b[0mline_search\u001b[0m\u001b[0;34m(\u001b[0m\u001b[0mX\u001b[0m\u001b[0;34m)\u001b[0m\u001b[0;34m\u001b[0m\u001b[0;34m\u001b[0m\u001b[0m\n\u001b[0m",
            "\u001b[0;32m<ipython-input-299-06a4e3d287c2>\u001b[0m in \u001b[0;36mline_search\u001b[0;34m(X)\u001b[0m\n\u001b[1;32m     22\u001b[0m     \u001b[0;32mreturn\u001b[0m \u001b[0;34m[\u001b[0m\u001b[0mf_alpha\u001b[0m\u001b[0;34m,\u001b[0m\u001b[0mphi_alpha\u001b[0m\u001b[0;34m]\u001b[0m\u001b[0;34m\u001b[0m\u001b[0;34m\u001b[0m\u001b[0m\n\u001b[1;32m     23\u001b[0m \u001b[0;34m\u001b[0m\u001b[0m\n\u001b[0;32m---> 24\u001b[0;31m   \u001b[0;32mwhile\u001b[0m \u001b[0mcheck\u001b[0m\u001b[0;34m(\u001b[0m\u001b[0malpha\u001b[0m\u001b[0;34m)\u001b[0m\u001b[0;34m[\u001b[0m\u001b[0;36m0\u001b[0m\u001b[0;34m]\u001b[0m \u001b[0;34m>\u001b[0m \u001b[0mcheck\u001b[0m\u001b[0;34m(\u001b[0m\u001b[0malpha\u001b[0m\u001b[0;34m)\u001b[0m\u001b[0;34m[\u001b[0m\u001b[0;36m1\u001b[0m\u001b[0;34m]\u001b[0m\u001b[0;34m:\u001b[0m\u001b[0;34m\u001b[0m\u001b[0;34m\u001b[0m\u001b[0m\n\u001b[0m\u001b[1;32m     25\u001b[0m     \u001b[0malpha\u001b[0m \u001b[0;34m=\u001b[0m \u001b[0mb\u001b[0m\u001b[0;34m*\u001b[0m\u001b[0malpha\u001b[0m\u001b[0;34m\u001b[0m\u001b[0;34m\u001b[0m\u001b[0m\n\u001b[1;32m     26\u001b[0m \u001b[0;34m\u001b[0m\u001b[0m\n",
            "\u001b[0;32m<ipython-input-299-06a4e3d287c2>\u001b[0m in \u001b[0;36mcheck\u001b[0;34m(alpha)\u001b[0m\n\u001b[1;32m     18\u001b[0m     \u001b[0mf_alpha\u001b[0m \u001b[0;34m=\u001b[0m \u001b[0mobjective_function\u001b[0m\u001b[0;34m(\u001b[0m\u001b[0mX_alpha\u001b[0m\u001b[0;34m)\u001b[0m\u001b[0;34m\u001b[0m\u001b[0;34m\u001b[0m\u001b[0m\n\u001b[1;32m     19\u001b[0m \u001b[0;34m\u001b[0m\u001b[0m\n\u001b[0;32m---> 20\u001b[0;31m     \u001b[0mphi_alpha\u001b[0m \u001b[0;34m=\u001b[0m \u001b[0mobjective_function\u001b[0m\u001b[0;34m(\u001b[0m\u001b[0mX_c\u001b[0m\u001b[0;34m)\u001b[0m \u001b[0;34m-\u001b[0m \u001b[0malpha\u001b[0m\u001b[0;34m*\u001b[0m\u001b[0mt\u001b[0m\u001b[0;34m*\u001b[0m\u001b[0;34m(\u001b[0m\u001b[0mnp\u001b[0m\u001b[0;34m.\u001b[0m\u001b[0mmatmul\u001b[0m\u001b[0;34m(\u001b[0m\u001b[0mdf_dd\u001b[0m\u001b[0;34m,\u001b[0m\u001b[0mdf_dd\u001b[0m\u001b[0;34m.\u001b[0m\u001b[0mtranspose\u001b[0m\u001b[0;34m(\u001b[0m\u001b[0;34m)\u001b[0m\u001b[0;34m)\u001b[0m\u001b[0;34m)\u001b[0m\u001b[0;34m\u001b[0m\u001b[0;34m\u001b[0m\u001b[0m\n\u001b[0m\u001b[1;32m     21\u001b[0m \u001b[0;34m\u001b[0m\u001b[0m\n\u001b[1;32m     22\u001b[0m     \u001b[0;32mreturn\u001b[0m \u001b[0;34m[\u001b[0m\u001b[0mf_alpha\u001b[0m\u001b[0;34m,\u001b[0m\u001b[0mphi_alpha\u001b[0m\u001b[0;34m]\u001b[0m\u001b[0;34m\u001b[0m\u001b[0;34m\u001b[0m\u001b[0m\n",
            "\u001b[0;31mValueError\u001b[0m: matmul: Input operand 0 does not have enough dimensions (has 0, gufunc core with signature (n?,k),(k,m?)->(n?,m?) requires 1)"
          ]
        }
      ]
    },
    {
      "cell_type": "code",
      "source": [
        "max_iter = 10\n",
        "epsilon = 1e-3\n",
        "for i in range(0,max_iter):\n",
        "  Xc1 = X\n",
        "  Xc2 = X\n",
        "  obj = objective_function(X)\n",
        "  cont1 = constraints_1(Xc1)\n",
        "  cont2 = constraints_2(Xc2)\n",
        "  obj.backward()\n",
        "  cont1.backward()\n",
        "  cont2.backward()\n",
        "  if reduced_gradient()[0] > epsilon:\n",
        "    alpha = line_search(X)\n"
      ],
      "metadata": {
        "colab": {
          "base_uri": "https://localhost:8080/"
        },
        "id": "cOXAH0qJO9PD",
        "outputId": "ba3b9e9f-89bf-4058-b504-16d1b033028d"
      },
      "execution_count": 184,
      "outputs": [
        {
          "output_type": "stream",
          "name": "stdout",
          "text": [
            "0\n",
            "1\n",
            "2\n",
            "3\n",
            "4\n",
            "5\n",
            "6\n",
            "7\n",
            "8\n",
            "9\n"
          ]
        }
      ]
    },
    {
      "cell_type": "code",
      "source": [],
      "metadata": {
        "id": "QQb9VqP2Pg2D"
      },
      "execution_count": null,
      "outputs": []
    }
  ]
}