{
  "nbformat": 4,
  "nbformat_minor": 0,
  "metadata": {
    "colab": {
      "provenance": [],
      "collapsed_sections": [],
      "authorship_tag": "ABX9TyPjVQmHy0m76olKCCS9pNhh",
      "include_colab_link": true
    },
    "kernelspec": {
      "name": "python3",
      "display_name": "Python 3"
    },
    "language_info": {
      "name": "python"
    }
  },
  "cells": [
    {
      "cell_type": "markdown",
      "metadata": {
        "id": "view-in-github",
        "colab_type": "text"
      },
      "source": [
        "<a href=\"https://colab.research.google.com/github/monarkparekh/MAE-598__Design-Optimization/blob/Project-1/MAE_598__Design_Optimization_Project1.ipynb\" target=\"_parent\"><img src=\"https://colab.research.google.com/assets/colab-badge.svg\" alt=\"Open In Colab\"/></a>"
      ]
    },
    {
      "cell_type": "markdown",
      "source": [
        "Things to Do: \n",
        "Here is a list of things we discussed during the class that could help to make the problem more representative of the reality:\n",
        "\n",
        "1) More realistic definition of state and action spaces: Rocket orientation, angular velocity, etc. <br>\n",
        "2) Better dynamical model, e.g., drag <br>\n",
        "3) Constraints in state and action spaces <br>\n",
        "4) Controller design for a distribution of initial states rather than one\n",
        "<br>5) Randomness in dynamics, sensing, etc."
      ],
      "metadata": {
        "id": "jGIXK6r-ufHB"
      }
    },
    {
      "cell_type": "markdown",
      "source": [
        "**Importing the necessary Libraries**"
      ],
      "metadata": {
        "id": "LGgpyMHIEY11"
      }
    },
    {
      "cell_type": "code",
      "source": [
        "import logging\n",
        "import math\n",
        "import random\n",
        "import numpy as np\n",
        "import time\n",
        "import torch \n",
        "import torch.nn as nn\n",
        "from torch import optim\n",
        "from torch.nn import utils\n",
        "import matplotlib.pyplot as plt\n",
        "\n",
        "logger = logging.getLogger(__name__)"
      ],
      "metadata": {
        "id": "EGpe0JQeEWmC"
      },
      "execution_count": 69,
      "outputs": []
    },
    {
      "cell_type": "markdown",
      "source": [
        "**Defining the Envrionment Paramerters**"
      ],
      "metadata": {
        "id": "wuH7KvhmEh0S"
      }
    },
    {
      "cell_type": "code",
      "source": [
        "'''\n",
        "1) The FRAME_TIME depicts the time interval for calculations\n",
        "2) GRAVITY_ACCEL_X is the gravitational accelaration in x direction \n",
        "3) GRAVITY_ACCEL_Y is the gravitational accelaration in y direction \n",
        "4) BOOST_ACCEL is the thrust constant \n",
        "'''\n",
        "FRAME_TIME = 0.1  \n",
        "GRAVITY_ACCEL_X = 0.\n",
        "GRAVITY_ACCEL_Y = 0.12  \n",
        "BOOST_ACCEL = 0.18  "
      ],
      "metadata": {
        "id": "-kN9d2wkEhVl"
      },
      "execution_count": 70,
      "outputs": []
    },
    {
      "cell_type": "markdown",
      "source": [
        "**Defining the System Dynamics**"
      ],
      "metadata": {
        "id": "ZtpWT7R2FxJe"
      }
    },
    {
      "cell_type": "code",
      "source": [
        "class Dynamics(nn.Module):\n",
        "\n",
        "    def __init__(self):\n",
        "        super(Dynamics, self).__init__()\n",
        "\n",
        "    def forward(self, state, action):\n",
        "        \"\"\"\n",
        "        Here the system state is defined by 5 parameters: \n",
        "          1) \"x\"     -----> The displacement of the rocket in x-direction\n",
        "          2) \"y\"     -----> The displacement of the rocket in y-direction\n",
        "          3) \"x_dot\" -----> The velocity of the rocket in x-direction\n",
        "          4) \"y_dot\" -----> The velocity of the rocket in y-direction\n",
        "          5) \"theta\" -----> The angle of rotation of the rocket about its center of mass\n",
        "\n",
        "        The array \"state\" stores the five system states defined above.\n",
        "        state[0] = x\n",
        "        state[1] = y\n",
        "        state[2] = x_dot\n",
        "        state[3] = y_dot\n",
        "        state[4] = theta\n",
        "\n",
        "        Whereas, the control actions comprise of:\n",
        "          1) \"thrust\" ----> The Force produced by the rocket propulsion\n",
        "          2) \"theta_dot\" -> The angular velocity of the rocket about its center of mass\n",
        "\n",
        "        The array \"action\" stores the two control actions defined above.\n",
        "        action[0] = thrust \n",
        "        action[1] = theta_dot\n",
        "        \"\"\"\n",
        "\n",
        "        # Here \"-GRAVITY_ACCEL_X * FRAME_TIME\" depicts the effect of gravity in x direction, and\n",
        "        # \"-GRAVITY_ACCEL_Y * FRAME_TIME\" depicts the effect of gravity in y direction.\n",
        "        delta_state_gravity = torch.tensor([0., 0.,-GRAVITY_ACCEL_X * FRAME_TIME, -GRAVITY_ACCEL_Y * FRAME_TIME, 0.])\n",
        "\n",
        "        # Calculating the Thrust for the given state\n",
        "        state_tensor = torch.zeros((1, 5))\n",
        "        state_tensor[0, 2] = torch.cos(state[0, 4])\n",
        "        state_tensor[0, 3] = torch.sin(state[0, 4])\n",
        "\n",
        "        delta_state = BOOST_ACCEL * FRAME_TIME * torch.mul(state_tensor, action[0, 0].reshape(-1, 1))\n",
        "\n",
        "        # Calculating the Theta for the given state and action \n",
        "        delta_state_theta = FRAME_TIME * torch.mul(torch.tensor([0., 0., 0., 0, 1.]),(action[0, 1]).reshape(-1, 1)) \n",
        "    \n",
        "        state = state + delta_state  + delta_state_gravity + delta_state_theta\n",
        "\n",
        "        # Updating the state based on the Frame Time\n",
        "        step_mat = torch.tensor([[1., 0.,FRAME_TIME, 0., 0.],\n",
        "                                 [0., 1., 0., FRAME_TIME, 0.],\n",
        "                                 [0., 0., 1.,0., 0.],\n",
        "                                 [0., 0., 0., 1., 0.],\n",
        "                                 [0., 0., 0., 0., 1.]])\n",
        "\n",
        "        state = torch.matmul(step_mat, state.T)     \n",
        "        return state.T"
      ],
      "metadata": {
        "id": "ztPqXnRnFshs"
      },
      "execution_count": 92,
      "outputs": []
    },
    {
      "cell_type": "markdown",
      "source": [
        "**Defining the System Controller**"
      ],
      "metadata": {
        "id": "FuMhsj5nZlsT"
      }
    },
    {
      "cell_type": "code",
      "source": [
        "class Controller(nn.Module):\n",
        "    def __init__(self, dim_input, dim_hidden, dim_output):\n",
        "        \"\"\"\n",
        "        dim_input:  Number of system states\n",
        "        dim_output: Number of actions\n",
        "        dim_hidden: Number of hidden layers\n",
        "        \"\"\"\n",
        "        super(Controller, self).__init__()\n",
        "\n",
        "        self.network = nn.Sequential(\n",
        "            nn.Linear(dim_input, dim_hidden),\n",
        "            nn.Tanh(),\n",
        "            nn.Linear(dim_hidden, dim_output),\n",
        "            nn.Sigmoid(),\n",
        "            nn.Linear(dim_output, dim_input),\n",
        "            nn.Tanh(),\n",
        "            nn.Linear(dim_input, dim_output),\n",
        "            nn.Sigmoid())\n",
        "\n",
        "    def forward(self, state):\n",
        "        # Bounding the \"theta_dot\" in the range of -1 to 1\n",
        "        action = self.network(state)\n",
        "        action = (2*action - torch.tensor([0., 1])) \n",
        "        return action"
      ],
      "metadata": {
        "id": "5yrGFkSZJEE_"
      },
      "execution_count": 145,
      "outputs": []
    },
    {
      "cell_type": "code",
      "source": [
        "class Simulation(nn.Module):\n",
        "\n",
        "    def __init__(self, controller, dynamics, T):\n",
        "        super(Simulation, self).__init__()\n",
        "        self.state = self.initialize_state()\n",
        "        self.controller = controller\n",
        "        self.dynamics = dynamics\n",
        "        self.T = T\n",
        "        self.theta_trajectory = torch.empty((1, 0))\n",
        "        self.u_trajectory = torch.empty((1, 0))\n",
        "\n",
        "    def forward(self, state):\n",
        "        self.action_trajectory = []\n",
        "        self.state_trajectory = []\n",
        "        for _ in range(T):\n",
        "            action = self.controller(state)\n",
        "            state = self.dynamics(state, action)\n",
        "            self.action_trajectory.append(action)\n",
        "            self.state_trajectory.append(state)\n",
        "        return self.error(state)\n",
        "\n",
        "    @staticmethod\n",
        "    def initialize_state():\n",
        "        state = [[1.,1.,0.,0.,0.]]\n",
        "        return torch.tensor(state, requires_grad=False).float()\n",
        "\n",
        "    def error(self, state):\n",
        "    \n",
        "        return torch.mean(state ** 2)"
      ],
      "metadata": {
        "id": "5h3GITBGJFxP"
      },
      "execution_count": 146,
      "outputs": []
    },
    {
      "cell_type": "code",
      "source": [
        "class Optimize:    \n",
        "    def __init__(self, simulation):\n",
        "        self.simulation = simulation # Defining the objective function\n",
        "        self.parameters = simulation.controller.parameters()\n",
        "        self.optimizer = optim.LBFGS(self.parameters, lr=0.007) # Defining the opmization algorithm\n",
        "        self.loss_list = []\n",
        "\n",
        "    # Defining the loss calculation method for objective function\n",
        "    def step(self):\n",
        "        def closure():\n",
        "            loss = self.simulation(self.simulation.state)  # calculate the loss of objective function\n",
        "            self.optimizer.zero_grad()\n",
        "            loss.backward() # calculate the gradient\n",
        "            return loss\n",
        "\n",
        "        self.optimizer.step(closure)\n",
        "        return closure()\n",
        "\n",
        "    # Defining the training method for the model\n",
        "    def train(self, epochs):\n",
        "        l = np.zeros(epochs)\n",
        "        for epoch in range(epochs):\n",
        "            loss = self.step() \n",
        "            self.loss_list.append(loss) \n",
        "            print('[%d] loss: %.3f' % (epoch + 1, loss))\n",
        "            l[epoch]=loss\n",
        "            \n",
        "        plt.plot(list(range(epochs)), l)       \n",
        "        plt.title('Convergence Curve of the Objective Function')\n",
        "        plt.xlabel('Iteration')\n",
        "        plt.ylabel('Function Error')\n",
        "        plt.show()\n",
        "        self.visualize()\n",
        "        \n",
        "        \n",
        "    # Plotting the states\n",
        "    def visualize(self):\n",
        "        data = np.array([self.simulation.state_trajectory[i][0].detach().numpy() for i in range(self.simulation.T)])\n",
        "        x = data[:,0]\n",
        "        y = data[:,1]\n",
        "        vx = data[:,2]\n",
        "        vy = data[:,3]\n",
        "        theta = data[:,4]\n",
        "\n",
        "        plt.plot(x, y)\n",
        "        plt.title(\"Postion X w.r.t to Postion Y \")\n",
        "        plt.xlabel('X')\n",
        "        plt.ylabel('Y')\n",
        "        plt.show()\n",
        "\n",
        "        plt.plot(vx, x)\n",
        "        plt.title(\"Change of X w.r.t Velocity in X \")\n",
        "        plt.xlabel('vx')\n",
        "        plt.ylabel('x')\n",
        "        plt.show()\n",
        "\n",
        "        plt.plot(vy, y)\n",
        "        plt.title(\"Change of Y w.r.t Velocity in Y \")\n",
        "        plt.xlabel('vy')\n",
        "        plt.ylabel('y')\n",
        "        plt.show()\n",
        "\n",
        "        plt.plot(y,theta)\n",
        "        plt.title(\"Change of Theta w.r.t to Postion in Y \")\n",
        "        plt.ylabel('theta')\n",
        "        plt.xlabel('y')\n",
        "        plt.show()\n",
        "\n",
        "        action_data = np.array([self.simulation.action_trajectory[i][0].detach().numpy() for i in range(self.simulation.T)])\n",
        "        thrust = action_data[:,0]\n",
        "        theta_dot = action_data[:,0]"
      ],
      "metadata": {
        "id": "XyotV8mZJHk_"
      },
      "execution_count": 149,
      "outputs": []
    },
    {
      "cell_type": "code",
      "source": [
        "T = 100  # number of time steps\n",
        "dim_input = 5  # state space dimensions\n",
        "dim_hidden = 12  # latent dimensions\n",
        "dim_output = 2  # action space dimensions\n",
        "d = Dynamics()  \n",
        "c = Controller(dim_input, dim_hidden, dim_output)  \n",
        "s = Simulation(c, d, T)  \n",
        "o = Optimize(s)  \n",
        "o.train(100)  # training with number of epochs"
      ],
      "metadata": {
        "colab": {
          "base_uri": "https://localhost:8080/",
          "height": 1000
        },
        "id": "UTMfZKE2JJFr",
        "outputId": "13d08f04-da28-4886-d896-e74c1b076f16"
      },
      "execution_count": 150,
      "outputs": [
        {
          "output_type": "stream",
          "name": "stdout",
          "text": [
            "[1] loss: 11.777\n",
            "[2] loss: 8.643\n",
            "[3] loss: 7.183\n",
            "[4] loss: 6.330\n",
            "[5] loss: 5.797\n",
            "[6] loss: 5.447\n",
            "[7] loss: 5.202\n",
            "[8] loss: 5.021\n",
            "[9] loss: 4.881\n",
            "[10] loss: 4.762\n",
            "[11] loss: 4.639\n",
            "[12] loss: 4.336\n",
            "[13] loss: 3.584\n",
            "[14] loss: 2.282\n",
            "[15] loss: 0.940\n",
            "[16] loss: 0.640\n",
            "[17] loss: 0.507\n",
            "[18] loss: 0.394\n",
            "[19] loss: 0.286\n",
            "[20] loss: 0.204\n",
            "[21] loss: 0.145\n",
            "[22] loss: 0.101\n",
            "[23] loss: 0.068\n",
            "[24] loss: 0.045\n",
            "[25] loss: 0.032\n",
            "[26] loss: 0.025\n",
            "[27] loss: 0.020\n",
            "[28] loss: 0.015\n",
            "[29] loss: 0.012\n",
            "[30] loss: 0.009\n",
            "[31] loss: 0.007\n",
            "[32] loss: 0.005\n",
            "[33] loss: 0.004\n",
            "[34] loss: 0.003\n",
            "[35] loss: 0.002\n",
            "[36] loss: 0.002\n",
            "[37] loss: 0.001\n",
            "[38] loss: 0.001\n",
            "[39] loss: 0.001\n",
            "[40] loss: 0.000\n",
            "[41] loss: 0.000\n",
            "[42] loss: 0.000\n",
            "[43] loss: 0.000\n",
            "[44] loss: 0.000\n",
            "[45] loss: 0.000\n",
            "[46] loss: 0.000\n",
            "[47] loss: 0.000\n",
            "[48] loss: 0.000\n",
            "[49] loss: 0.000\n",
            "[50] loss: 0.000\n",
            "[51] loss: 0.000\n",
            "[52] loss: 0.000\n",
            "[53] loss: 0.000\n",
            "[54] loss: 0.000\n",
            "[55] loss: 0.000\n",
            "[56] loss: 0.000\n",
            "[57] loss: 0.000\n",
            "[58] loss: 0.000\n",
            "[59] loss: 0.000\n",
            "[60] loss: 0.000\n",
            "[61] loss: 0.000\n",
            "[62] loss: 0.000\n",
            "[63] loss: 0.000\n",
            "[64] loss: 0.000\n",
            "[65] loss: 0.000\n",
            "[66] loss: 0.000\n",
            "[67] loss: 0.000\n",
            "[68] loss: 0.000\n",
            "[69] loss: 0.000\n",
            "[70] loss: 0.000\n",
            "[71] loss: 0.000\n",
            "[72] loss: 0.000\n",
            "[73] loss: 0.000\n",
            "[74] loss: 0.000\n",
            "[75] loss: 0.000\n",
            "[76] loss: 0.000\n",
            "[77] loss: 0.000\n",
            "[78] loss: 0.000\n",
            "[79] loss: 0.000\n",
            "[80] loss: 0.000\n",
            "[81] loss: 0.000\n",
            "[82] loss: 0.000\n",
            "[83] loss: 0.000\n",
            "[84] loss: 0.000\n",
            "[85] loss: 0.000\n",
            "[86] loss: 0.000\n",
            "[87] loss: 0.000\n",
            "[88] loss: 0.000\n",
            "[89] loss: 0.000\n",
            "[90] loss: 0.000\n",
            "[91] loss: 0.000\n",
            "[92] loss: 0.000\n",
            "[93] loss: 0.000\n",
            "[94] loss: 0.000\n",
            "[95] loss: 0.000\n",
            "[96] loss: 0.000\n",
            "[97] loss: 0.000\n",
            "[98] loss: 0.000\n",
            "[99] loss: 0.000\n",
            "[100] loss: 0.000\n"
          ]
        },
        {
          "output_type": "display_data",
          "data": {
            "text/plain": [
              "<Figure size 432x288 with 1 Axes>"
            ],
            "image/png": "[encoded data removed]"
          },
          "metadata": {
            "needs_background": "light"
          }
        },
        {
          "output_type": "display_data",
          "data": {
            "text/plain": [
              "<Figure size 432x288 with 1 Axes>"
            ],
            "image/png": "[encoded data removed]"
          },
          "metadata": {
            "needs_background": "light"
          }
        },
        {
          "output_type": "display_data",
          "data": {
            "text/plain": [
              "<Figure size 432x288 with 1 Axes>"
            ],
            "image/png": "[encoded data removed]"
          },
          "metadata": {
            "needs_background": "light"
          }
        },
        {
          "output_type": "display_data",
          "data": {
            "text/plain": [
              "<Figure size 432x288 with 1 Axes>"
            ],
            "image/png": "[encoded data removed]"
          },
          "metadata": {
            "needs_background": "light"
          }
        },
        {
          "output_type": "display_data",
          "data": {
            "text/plain": [
              "<Figure size 432x288 with 1 Axes>"
            ],
            "image/png": "[encoded data removed]"
          },
          "metadata": {
            "needs_background": "light"
          }
        }
      ]
    },
    {
      "cell_type": "code",
      "source": [],
      "metadata": {
        "id": "cR-dgMqxJR0s"
      },
      "execution_count": 78,
      "outputs": []
    }
  ]
}