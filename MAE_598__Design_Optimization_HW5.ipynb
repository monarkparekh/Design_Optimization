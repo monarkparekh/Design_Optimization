{
  "nbformat": 4,
  "nbformat_minor": 0,
  "metadata": {
    "colab": {
      "provenance": [],
      "authorship_tag": "ABX9TyPg9KeIoBoUUwbso5NrubXJ",
      "include_colab_link": true
    },
    "kernelspec": {
      "name": "python3",
      "display_name": "Python 3"
    },
    "language_info": {
      "name": "python"
    }
  },
  "cells": [
    {
      "cell_type": "markdown",
      "metadata": {
        "id": "view-in-github",
        "colab_type": "text"
      },
      "source": [
        "<a href=\"https://colab.research.google.com/github/monarkparekh/MAE-598__Design-Optimization/blob/Assignment-5/MAE_598__Design_Optimization_HW5.ipynb\" target=\"_parent\"><img src=\"https://colab.research.google.com/assets/colab-badge.svg\" alt=\"Open In Colab\"/></a>"
      ]
    },
    {
      "cell_type": "markdown",
      "source": [
        "<b><h1><center>MAE 598 Design Optimization: \n",
        "Assignment 5</center></h1></b>\n",
        "\n",
        "<h3><center>Name: Monark Parekh <br>\n",
        "ASU ID: 1222179426</center></h3>"
      ],
      "metadata": {
        "id": "UxzQdUe5Sq_J"
      }
    },
    {
      "cell_type": "code",
      "execution_count": null,
      "metadata": {
        "id": "kPRBizz_Slym"
      },
      "outputs": [],
      "source": []
    }
  ]
}